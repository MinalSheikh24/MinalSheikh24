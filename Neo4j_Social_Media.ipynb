{
  "nbformat": 4,
  "nbformat_minor": 0,
  "metadata": {
    "colab": {
      "provenance": [],
      "authorship_tag": "ABX9TyN3ZOFCaxa6Y53UIVkf1F7u",
      "include_colab_link": true
    },
    "kernelspec": {
      "name": "python3",
      "display_name": "Python 3"
    },
    "language_info": {
      "name": "python"
    }
  },
  "cells": [
    {
      "cell_type": "markdown",
      "metadata": {
        "id": "view-in-github",
        "colab_type": "text"
      },
      "source": [
        "<a href=\"https://colab.research.google.com/github/MinalSheikh24/MinalSheikh24/blob/main/Neo4j_Social_Media.ipynb\" target=\"_parent\"><img src=\"https://colab.research.google.com/assets/colab-badge.svg\" alt=\"Open In Colab\"/></a>"
      ]
    },
    {
      "cell_type": "markdown",
      "source": [
        "Click to Create a New SandBox"
      ],
      "metadata": {
        "id": "nO4jRLUylVjW"
      }
    },
    {
      "cell_type": "markdown",
      "source": [
        "[Create new sandbox](https://sandbox.neo4j.com/?usecase=blank-sandbox&_ga=2.240152963.1039916755.1677513528-1336861260.1677513528)"
      ],
      "metadata": {
        "id": "f6ZP8rbvl_YP"
      }
    },
    {
      "cell_type": "markdown",
      "source": [
        "Install"
      ],
      "metadata": {
        "id": "TB7NOeAcqyMG"
      }
    },
    {
      "cell_type": "code",
      "source": [
        "!pip install -q py2neo"
      ],
      "metadata": {
        "id": "ZyPuX-vKlX8H"
      },
      "execution_count": 46,
      "outputs": []
    },
    {
      "cell_type": "markdown",
      "source": [
        "Imports"
      ],
      "metadata": {
        "id": "zsanBwmsqwmh"
      }
    },
    {
      "cell_type": "code",
      "source": [
        "\n",
        "from py2neo import Graph\n",
        "from py2neo import Node\n",
        "from py2neo import Relationship\n",
        "import pandas as pd"
      ],
      "metadata": {
        "id": "flWRWLdAmdcw"
      },
      "execution_count": 47,
      "outputs": []
    },
    {
      "cell_type": "markdown",
      "source": [
        "Establish a Connection"
      ],
      "metadata": {
        "id": "_uTVVTAPqvau"
      }
    },
    {
      "cell_type": "code",
      "source": [
        "\n",
        "graph = Graph(\"bolt://44.193.209.114:7687\",\n",
        "              user=\"neo4j\",\n",
        "              password=\"fruit-wines-assaults\")\n",
        ""
      ],
      "metadata": {
        "id": "oFL56Vfdmird"
      },
      "execution_count": 48,
      "outputs": []
    },
    {
      "cell_type": "markdown",
      "source": [
        "Social Media Nodes"
      ],
      "metadata": {
        "id": "78LHBiLrnZh1"
      }
    },
    {
      "cell_type": "code",
      "source": [
        "\n",
        "Instagram = Node(\"Social_Media\", title=\"Instagram\", tagline=\"Capture and Share the World's Moments\")\n",
        "Facebook = Node(\"Social_Media\",  title=\"Facebook\", tagline=\"It's quick and easy\")\n",
        "WhatsApp = Node(\"Social_Media\",  title=\"WhatsApp\", tagline=\"Hey there, I am using WhatsApp\")\n",
        "SnapChat = Node(\"Social_Media\", title=\"SnapChat\", tagline=\"THe fastest way to share a moment\")\n",
        "Youtube = Node(\"Social_Media\", title=\"Youtube\", tagline=\"Broadcast Yourself\")\n",
        "Twitter = Node(\"Social_Media\", title=\"Twitter\", tagline=\"Here, your voice matters\")\n",
        "LinkedIn = Node(\"Social_Media\", title=\"LinkedIn\", tagline=\"Sum up your Professional Brand\")"
      ],
      "metadata": {
        "id": "M9mlI3FJnTKD"
      },
      "execution_count": 49,
      "outputs": []
    },
    {
      "cell_type": "markdown",
      "source": [
        "User Nodes"
      ],
      "metadata": {
        "id": "WUFDJlCwoq2W"
      }
    },
    {
      "cell_type": "code",
      "source": [
        "from socket import MSG_NOSIGNAL\n",
        "Ali = Node(\"Person\", name=\"Ali Khan\", dob=1968, country=\"Pakistan\", sex=\"Male\")\n",
        "Aliza = Node(\"Person\", name=\"Aliza Khalid\", dob=1969, country=\"Pakistan\", sex=\"Female\")\n",
        "Sufyan = Node(\"Person\", name=\"Sufyan Sarwar\", dob=1967, country=\"Pakistan\", sex=\"Male\")\n",
        "Ahmad = Node(\"Person\", name=\"Ahmad Talib\", dob=1967, country=\"Pakistan\", sex=\"Male\")\n",
        "Minal = Node(\"Person\", name=\"Minal Sheikh\", dob=1967, country=\"Pakistan\", sex=\"Female\")\n",
        "Zara = Node(\"Person\", name=\"Zara Dar\", dob=1971, country=\"Pakistan\", sex=\"Female\")\n",
        "\n",
        "Arbab = Node(\"Person\", name=\"Arbab Zahoor \", dob=1980, country=\"Iran\", sex=\"Male\")\n",
        "Hussnain = Node(\"Person\", name=\"Hussnain Tareen \", dob=1960, country=\"Iran\", sex=\"Male\")\n",
        "Ayesha = Node(\"Person\", name=\"Ayesha Khan \", dob=1986, country=\"Iran\", sex=\"Female\")\n",
        "Maryam = Node(\"Person\", name=\"Maryam Waheed \", dob=1988, country=\"Iran\", sex=\"Female\")\n",
        "Shazia = Node(\"Person\", name=\"Shazia Ahmad\", dob=1985, country=\"Iran\", sex=\"Female\")\n",
        "Rehan = Node(\"Person\", name=\"Rehan Saeed \", dob=1965, country=\"Iran\", sex=\"Male\")\n",
        "Faran = Node(\"Person\", name=\"Faran Naeem \", dob=1975, country=\"Iran\", sex=\"Male\")\n",
        "Sadat = Node(\"Person\", name=\"Sadat Ali\", dob=1987, country=\"Iran\", sex=\"Male\")\n",
        "Noman = Node(\"Person\", name=\"Noman Shah \", dob=1990, country=\"Iran\", sex=\"Male\")\n",
        "\n",
        "Essa = Node(\"Person\", name=\"Essa Khan\", dob=2001, country=\"USA\", sex=\"Male\")\n",
        "Yusuf = Node(\"Person\", name=\"Yusaf\", dob=2006, country=\"USA\", sex=\"Male\")\n",
        "Hania = Node(\"Person\", name=\"Hania Amir\", dob=2005, country=\"USA\", sex=\"Female\")\n",
        "Mahnoor = Node(\"Person\", name=\"Mahnoor Nadeem\", dob=2001, country=\"USA\", sex=\"Female\")\n",
        "Arshia = Node(\"Person\", name=\"Arshia Malik\", dob=1998, country=\"USA\", sex=\"Female\")\n",
        "Mehmood = Node(\"Person\", name=\"Mehmood Ahmad\", dob=1999, country=\"USA\", sex=\"Male\")\n",
        "Chaudary = Node(\"Person\", name=\"Chaudary Dar \", dob=1999, country=\"USA\", sex=\"Male\")"
      ],
      "metadata": {
        "id": "32stdkIfnVXc"
      },
      "execution_count": 50,
      "outputs": []
    },
    {
      "cell_type": "markdown",
      "source": [
        "Storing Nodes in Graphs"
      ],
      "metadata": {
        "id": "46d-MZmVp-YF"
      }
    },
    {
      "cell_type": "code",
      "source": [
        "graph.create(Instagram | Facebook | WhatsApp | SnapChat\n",
        "             | Youtube | Twitter | LinkedIn)"
      ],
      "metadata": {
        "id": "tadIYYu-oxkA"
      },
      "execution_count": 51,
      "outputs": []
    },
    {
      "cell_type": "code",
      "source": [
        "graph.create(Hania | Minal | Arshia | Mehmood | Noman\n",
        "             | Rehan | Zara | Ali | Shazia | Essa | Sufyan\n",
        "             | Maryam | Yusuf | Chaudary | Ayesha |Mahnoor | Aliza\n",
        "             | Ahmad | Faran | Sadat | Hussnain)"
      ],
      "metadata": {
        "id": "4U3pNe-Uo8oW"
      },
      "execution_count": 52,
      "outputs": []
    },
    {
      "cell_type": "markdown",
      "source": [
        "Adding Relationship between Social Media Nodes & User Nodes"
      ],
      "metadata": {
        "id": "JRmpGH1Vp5to"
      }
    },
    {
      "cell_type": "code",
      "source": [
        "graph.create(Relationship(Arshia, \"Uses\", Twitter, joinedyear=2014, screentime=47, rating=3))\n",
        "graph.create(Relationship(Essa, \"Uses\", LinkedIn, joinedyear=2010, screentime=64, rating=5))\n",
        "graph.create(Relationship(Essa, \"Uses\", Twitter, joinedyear=2013, screentime=60, rating=4.6))\n",
        "graph.create(Relationship(Mehmood, \"Uses\", Facebook, joinedyear=2019, screentime=97, rating=4.5))\n",
        "graph.create(Relationship(Noman, \"Uses\", Facebook, joinedyear=2018, screentime=20, rating=3))\n",
        "graph.create(Relationship(Rehan, \"Uses\", Facebook, joinedyear=2016, screentime=69, rating=4.9))\n",
        "graph.create(Relationship(Zara, \"Uses\", Facebook, joinedyear=2013, screentime=94, rating=1))\n",
        "graph.create(Relationship(Zara, \"Uses\", LinkedIn, joinedyear=2011, screentime=34, rating=4.8))\n",
        "graph.create(Relationship(Ali, \"Uses\", Youtube, joinedyear=2008, screentime=104, rating=4.6))\n",
        "graph.create(Relationship(Ali, \"Uses\", Twitter, joinedyear=2016, screentime=24, rating=1.8))\n",
        "graph.create(Relationship(Ali, \"Uses\", Instagram, joinedyear = 2014, screentime = 120, rating = 4.8))\n",
        "graph.create(Relationship(Shazia, \"Uses\", Youtube, joinedyear=2009, screentime=14, rating=5))\n",
        "graph.create(Relationship(Shazia, \"Uses\", SnapChat, joinedyear=2013, screentime=36, rating=3.8))\n",
        "graph.create(Relationship(Shazia, \"Uses\", LinkedIn, joinedyear=2017, screentime=20, rating=4))\n",
        "graph.create(Relationship(Hania, \"Uses\", Facebook, joinedyear=2016, screentime=30, rating=2))\n",
        "graph.create(Relationship(Hania, \"Uses\", WhatsApp, joinedyear=2016, screentime=70, rating=3))\n",
        "graph.create(Relationship(Hania, \"Uses\", Instagram, joinedyear=2012, screentime=150, rating=4.9))\n",
        "graph.create(Relationship(Minal, \"Uses\", WhatsApp, joinedyear=2018, screentime=100, rating=4))\n",
        "\n",
        "graph.create(Relationship(Noman, \"Uses\", WhatsApp, joinedyear=2010, screentime=25, rating=5))\n",
        "graph.create(Relationship(Minal, \"Uses\", WhatsApp, joinedyear=2011, screentime=10, rating=4))\n",
        "graph.create(Relationship(Rehan, \"Uses\", WhatsApp, joinedyear=2012, screentime=15, rating=5))\n",
        "graph.create(Relationship(Mehmood, \"Uses\", WhatsApp, joinedyear=2013, screentime=30, rating=4))\n",
        "graph.create(Relationship(Zara, \"Uses\", WhatsApp, joinedyear=2014, screentime=35, rating=5))\n",
        "graph.create(Relationship(Essa, \"Uses\", WhatsApp, joinedyear=2015, screentime=40, rating=4))\n",
        "graph.create(Relationship(Ali, \"Uses\", WhatsApp, joinedyear=2016, screentime=45, rating=5))\n",
        "graph.create(Relationship(Shazia, \"Uses\", WhatsApp, joinedyear=2017, screentime=50, rating=4))\n",
        "graph.create(Relationship(Arshia, \"Uses\", WhatsApp, joinedyear=2018, screentime=55, rating=5))\n",
        "\n",
        "graph.create(Relationship(Yusuf , \"Uses\", Instagram, joinedyear=2018, screentime=80, rating=5))\n",
        "graph.create(Relationship(Chaudary, \"Uses\", Twitter, joinedyear=2014, screentime=20, rating=3))\n",
        "graph.create(Relationship(Ayesha, \"Uses\", Instagram, joinedyear=2015, screentime=130, rating=4))\n",
        "graph.create(Relationship(Mahnoor, \"Uses\", Instagram, joinedyear=2017, screentime=100, rating=4))\n",
        "graph.create(Relationship(Aliza, \"Uses\", Instagram, joinedyear=2018, screentime=40, rating=4))\n",
        "graph.create(Relationship(Ahmad, \"Uses\", LinkedIn, joinedyear=2019, screentime=10, rating=3))\n",
        "graph.create(Relationship(Faran, \"Uses\", Youtube, joinedyear=2013, screentime=30, rating=3))\n",
        "graph.create(Relationship(Sadat, \"Uses\", Instagram, joinedyear=2010, screentime=40, rating=4))\n",
        "graph.create(Relationship(Hussnain, \"Uses\", Instagram, joinedyear=2012, screentime=50, rating=5))\n",
        "\n",
        "graph.create(Relationship(Minal, \"Uses\", Facebook, joinedyear=2017, screentime=43, rating=2))\n",
        "graph.create(Relationship(Essa, \"Uses\", Twitter, joinedyear=2012, screentime=84, rating=4))\n",
        "graph.create(Relationship(Essa, \"Uses\", LinkedIn, joinedyear=2014, screentime=134, rating=1))\n",
        "graph.create(Relationship(Essa, \"Uses\", Youtube, joinedyear=2014, screentime=64, rating=4.8))\n",
        "graph.create(Relationship(Sufyan, \"Uses\", Twitter, joinedyear=2010, screentime=54, rating=2.9))\n",
        "graph.create(Relationship(Sufyan, \"Uses\", SnapChat, joinedyear=2015, screentime=76, rating=3.8))\n",
        "graph.create(Relationship(Sufyan, \"Uses\", WhatsApp, joinedyear=2019, screentime=87, rating=2.6))\n",
        "graph.create(Relationship(Maryam, \"Uses\", Facebook, joinedyear=2017, screentime=29, rating=4.9))\n",
        "graph.create(Relationship(Maryam, \"Uses\", SnapChat, joinedyear=2018, screentime=48, rating=2.8))\n",
        "graph.create(Relationship(Maryam, \"Uses\", WhatsApp, joinedyear=2009, screentime=86, rating=1.6))"
      ],
      "metadata": {
        "id": "XKTR9pYMo_fO"
      },
      "execution_count": 53,
      "outputs": []
    },
    {
      "cell_type": "markdown",
      "source": [
        "Which social media platform has the most number of users? (Top 5)"
      ],
      "metadata": {
        "id": "2-BAMJJVpw8f"
      }
    },
    {
      "cell_type": "code",
      "source": [
        "query1 = \"\"\"\n",
        "MATCH (p:Person)-[]->(s:Social_Media)\n",
        "RETURN s.title, COUNT(*) AS Users\n",
        "ORDER BY Users DESC\n",
        "LIMIT 5\n",
        "\"\"\"\n",
        "\n",
        "result1 = graph.run(query1)\n",
        "for d in result1:\n",
        "    print(d)"
      ],
      "metadata": {
        "colab": {
          "base_uri": "https://localhost:8080/"
        },
        "id": "jN4NyIPvpN9X",
        "outputId": "379122a9-58b2-44d5-fe78-a9b4680e383f"
      },
      "execution_count": 54,
      "outputs": [
        {
          "output_type": "stream",
          "name": "stdout",
          "text": [
            "'WhatsApp'\t48\n",
            "'Instagram'\t30\n",
            "'Facebook'\t28\n",
            "'Youtube'\t19\n",
            "'Twitter'\t19\n"
          ]
        }
      ]
    },
    {
      "cell_type": "markdown",
      "source": [
        "Which platform has the highest rating?"
      ],
      "metadata": {
        "id": "lN4II1jrqOwt"
      }
    },
    {
      "cell_type": "code",
      "source": [
        "query2 = \"\"\"\n",
        "MATCH (p:Person)-[r]->(s:Social_Media)\n",
        "RETURN s.title AS Title, AVG(r.rating) AS Rating\n",
        "ORDER BY Rating DESC\n",
        "\"\"\"\n",
        "\n",
        "result2 = graph.run(query2)\n",
        "for d in result2:\n",
        "    print(d)"
      ],
      "metadata": {
        "colab": {
          "base_uri": "https://localhost:8080/"
        },
        "id": "70_j06QVpnDd",
        "outputId": "b3b617e6-4153-4adc-c87d-3f6f31cad5d9"
      },
      "execution_count": 55,
      "outputs": [
        {
          "output_type": "stream",
          "name": "stdout",
          "text": [
            "'Instagram'\t4.493333333333335\n",
            "'Youtube'\t4.294736842105263\n",
            "'WhatsApp'\t4.016666666666667\n",
            "'SnapChat'\t3.3733333333333335\n",
            "'LinkedIn'\t3.3058823529411763\n",
            "'Facebook'\t3.1857142857142864\n",
            "'Twitter'\t3.021052631578948\n"
          ]
        }
      ]
    },
    {
      "cell_type": "markdown",
      "source": [
        "What is the total screen time for a user & which social media platform has the most screen time?"
      ],
      "metadata": {
        "id": "l1j6car2qVwt"
      }
    },
    {
      "cell_type": "code",
      "source": [
        "query3 = \"\"\"\n",
        "MATCH (p:Person)-[r]->(s:Social_Media)\n",
        "RETURN DISTINCT p.name AS Name, s.title,SUM(r.screentime) AS Total\n",
        "ORDER BY Total DESC\n",
        "LIMIT 10\n",
        "\"\"\"\n",
        "\n",
        "result3 = graph.run(query3)\n",
        "\n",
        "df = pd.DataFrame(result3, columns = [\"User\", \"Social Media\", \"Screen Time\"])"
      ],
      "metadata": {
        "id": "bTYSNmS3qSve"
      },
      "execution_count": 56,
      "outputs": []
    },
    {
      "cell_type": "code",
      "source": [
        "df"
      ],
      "metadata": {
        "colab": {
          "base_uri": "https://localhost:8080/",
          "height": 362
        },
        "id": "-K1XkHKYqaBD",
        "outputId": "62987e73-6994-44ed-fcf0-1ae5e3ee34c8"
      },
      "execution_count": 57,
      "outputs": [
        {
          "output_type": "execute_result",
          "data": {
            "text/plain": [
              "             User Social Media  Screen Time\n",
              "0      Hania Amir    Instagram          450\n",
              "1       Essa Khan     LinkedIn          402\n",
              "2    Ayesha Khan     Instagram          390\n",
              "3        Ali Khan    Instagram          360\n",
              "4        Ali Khan      Youtube          312\n",
              "5  Mahnoor Nadeem    Instagram          300\n",
              "6   Mehmood Ahmad     Facebook          291\n",
              "7        Zara Dar     Facebook          282\n",
              "8   Sufyan Sarwar     WhatsApp          261\n",
              "9  Maryam Waheed      WhatsApp          258"
            ],
            "text/html": [
              "\n",
              "  <div id=\"df-17ac8ceb-354a-41bd-adf8-fb53c8b85dd6\" class=\"colab-df-container\">\n",
              "    <div>\n",
              "<style scoped>\n",
              "    .dataframe tbody tr th:only-of-type {\n",
              "        vertical-align: middle;\n",
              "    }\n",
              "\n",
              "    .dataframe tbody tr th {\n",
              "        vertical-align: top;\n",
              "    }\n",
              "\n",
              "    .dataframe thead th {\n",
              "        text-align: right;\n",
              "    }\n",
              "</style>\n",
              "<table border=\"1\" class=\"dataframe\">\n",
              "  <thead>\n",
              "    <tr style=\"text-align: right;\">\n",
              "      <th></th>\n",
              "      <th>User</th>\n",
              "      <th>Social Media</th>\n",
              "      <th>Screen Time</th>\n",
              "    </tr>\n",
              "  </thead>\n",
              "  <tbody>\n",
              "    <tr>\n",
              "      <th>0</th>\n",
              "      <td>Hania Amir</td>\n",
              "      <td>Instagram</td>\n",
              "      <td>450</td>\n",
              "    </tr>\n",
              "    <tr>\n",
              "      <th>1</th>\n",
              "      <td>Essa Khan</td>\n",
              "      <td>LinkedIn</td>\n",
              "      <td>402</td>\n",
              "    </tr>\n",
              "    <tr>\n",
              "      <th>2</th>\n",
              "      <td>Ayesha Khan</td>\n",
              "      <td>Instagram</td>\n",
              "      <td>390</td>\n",
              "    </tr>\n",
              "    <tr>\n",
              "      <th>3</th>\n",
              "      <td>Ali Khan</td>\n",
              "      <td>Instagram</td>\n",
              "      <td>360</td>\n",
              "    </tr>\n",
              "    <tr>\n",
              "      <th>4</th>\n",
              "      <td>Ali Khan</td>\n",
              "      <td>Youtube</td>\n",
              "      <td>312</td>\n",
              "    </tr>\n",
              "    <tr>\n",
              "      <th>5</th>\n",
              "      <td>Mahnoor Nadeem</td>\n",
              "      <td>Instagram</td>\n",
              "      <td>300</td>\n",
              "    </tr>\n",
              "    <tr>\n",
              "      <th>6</th>\n",
              "      <td>Mehmood Ahmad</td>\n",
              "      <td>Facebook</td>\n",
              "      <td>291</td>\n",
              "    </tr>\n",
              "    <tr>\n",
              "      <th>7</th>\n",
              "      <td>Zara Dar</td>\n",
              "      <td>Facebook</td>\n",
              "      <td>282</td>\n",
              "    </tr>\n",
              "    <tr>\n",
              "      <th>8</th>\n",
              "      <td>Sufyan Sarwar</td>\n",
              "      <td>WhatsApp</td>\n",
              "      <td>261</td>\n",
              "    </tr>\n",
              "    <tr>\n",
              "      <th>9</th>\n",
              "      <td>Maryam Waheed</td>\n",
              "      <td>WhatsApp</td>\n",
              "      <td>258</td>\n",
              "    </tr>\n",
              "  </tbody>\n",
              "</table>\n",
              "</div>\n",
              "    <div class=\"colab-df-buttons\">\n",
              "\n",
              "  <div class=\"colab-df-container\">\n",
              "    <button class=\"colab-df-convert\" onclick=\"convertToInteractive('df-17ac8ceb-354a-41bd-adf8-fb53c8b85dd6')\"\n",
              "            title=\"Convert this dataframe to an interactive table.\"\n",
              "            style=\"display:none;\">\n",
              "\n",
              "  <svg xmlns=\"http://www.w3.org/2000/svg\" height=\"24px\" viewBox=\"0 -960 960 960\">\n",
              "    <path d=\"M120-120v-720h720v720H120Zm60-500h600v-160H180v160Zm220 220h160v-160H400v160Zm0 220h160v-160H400v160ZM180-400h160v-160H180v160Zm440 0h160v-160H620v160ZM180-180h160v-160H180v160Zm440 0h160v-160H620v160Z\"/>\n",
              "  </svg>\n",
              "    </button>\n",
              "\n",
              "  <style>\n",
              "    .colab-df-container {\n",
              "      display:flex;\n",
              "      gap: 12px;\n",
              "    }\n",
              "\n",
              "    .colab-df-convert {\n",
              "      background-color: #E8F0FE;\n",
              "      border: none;\n",
              "      border-radius: 50%;\n",
              "      cursor: pointer;\n",
              "      display: none;\n",
              "      fill: #1967D2;\n",
              "      height: 32px;\n",
              "      padding: 0 0 0 0;\n",
              "      width: 32px;\n",
              "    }\n",
              "\n",
              "    .colab-df-convert:hover {\n",
              "      background-color: #E2EBFA;\n",
              "      box-shadow: 0px 1px 2px rgba(60, 64, 67, 0.3), 0px 1px 3px 1px rgba(60, 64, 67, 0.15);\n",
              "      fill: #174EA6;\n",
              "    }\n",
              "\n",
              "    .colab-df-buttons div {\n",
              "      margin-bottom: 4px;\n",
              "    }\n",
              "\n",
              "    [theme=dark] .colab-df-convert {\n",
              "      background-color: #3B4455;\n",
              "      fill: #D2E3FC;\n",
              "    }\n",
              "\n",
              "    [theme=dark] .colab-df-convert:hover {\n",
              "      background-color: #434B5C;\n",
              "      box-shadow: 0px 1px 3px 1px rgba(0, 0, 0, 0.15);\n",
              "      filter: drop-shadow(0px 1px 2px rgba(0, 0, 0, 0.3));\n",
              "      fill: #FFFFFF;\n",
              "    }\n",
              "  </style>\n",
              "\n",
              "    <script>\n",
              "      const buttonEl =\n",
              "        document.querySelector('#df-17ac8ceb-354a-41bd-adf8-fb53c8b85dd6 button.colab-df-convert');\n",
              "      buttonEl.style.display =\n",
              "        google.colab.kernel.accessAllowed ? 'block' : 'none';\n",
              "\n",
              "      async function convertToInteractive(key) {\n",
              "        const element = document.querySelector('#df-17ac8ceb-354a-41bd-adf8-fb53c8b85dd6');\n",
              "        const dataTable =\n",
              "          await google.colab.kernel.invokeFunction('convertToInteractive',\n",
              "                                                    [key], {});\n",
              "        if (!dataTable) return;\n",
              "\n",
              "        const docLinkHtml = 'Like what you see? Visit the ' +\n",
              "          '<a target=\"_blank\" href=https://colab.research.google.com/notebooks/data_table.ipynb>data table notebook</a>'\n",
              "          + ' to learn more about interactive tables.';\n",
              "        element.innerHTML = '';\n",
              "        dataTable['output_type'] = 'display_data';\n",
              "        await google.colab.output.renderOutput(dataTable, element);\n",
              "        const docLink = document.createElement('div');\n",
              "        docLink.innerHTML = docLinkHtml;\n",
              "        element.appendChild(docLink);\n",
              "      }\n",
              "    </script>\n",
              "  </div>\n",
              "\n",
              "\n",
              "<div id=\"df-6621380e-0bbd-4a10-84e8-8bd10adc2936\">\n",
              "  <button class=\"colab-df-quickchart\" onclick=\"quickchart('df-6621380e-0bbd-4a10-84e8-8bd10adc2936')\"\n",
              "            title=\"Suggest charts\"\n",
              "            style=\"display:none;\">\n",
              "\n",
              "<svg xmlns=\"http://www.w3.org/2000/svg\" height=\"24px\"viewBox=\"0 0 24 24\"\n",
              "     width=\"24px\">\n",
              "    <g>\n",
              "        <path d=\"M19 3H5c-1.1 0-2 .9-2 2v14c0 1.1.9 2 2 2h14c1.1 0 2-.9 2-2V5c0-1.1-.9-2-2-2zM9 17H7v-7h2v7zm4 0h-2V7h2v10zm4 0h-2v-4h2v4z\"/>\n",
              "    </g>\n",
              "</svg>\n",
              "  </button>\n",
              "\n",
              "<style>\n",
              "  .colab-df-quickchart {\n",
              "      --bg-color: #E8F0FE;\n",
              "      --fill-color: #1967D2;\n",
              "      --hover-bg-color: #E2EBFA;\n",
              "      --hover-fill-color: #174EA6;\n",
              "      --disabled-fill-color: #AAA;\n",
              "      --disabled-bg-color: #DDD;\n",
              "  }\n",
              "\n",
              "  [theme=dark] .colab-df-quickchart {\n",
              "      --bg-color: #3B4455;\n",
              "      --fill-color: #D2E3FC;\n",
              "      --hover-bg-color: #434B5C;\n",
              "      --hover-fill-color: #FFFFFF;\n",
              "      --disabled-bg-color: #3B4455;\n",
              "      --disabled-fill-color: #666;\n",
              "  }\n",
              "\n",
              "  .colab-df-quickchart {\n",
              "    background-color: var(--bg-color);\n",
              "    border: none;\n",
              "    border-radius: 50%;\n",
              "    cursor: pointer;\n",
              "    display: none;\n",
              "    fill: var(--fill-color);\n",
              "    height: 32px;\n",
              "    padding: 0;\n",
              "    width: 32px;\n",
              "  }\n",
              "\n",
              "  .colab-df-quickchart:hover {\n",
              "    background-color: var(--hover-bg-color);\n",
              "    box-shadow: 0 1px 2px rgba(60, 64, 67, 0.3), 0 1px 3px 1px rgba(60, 64, 67, 0.15);\n",
              "    fill: var(--button-hover-fill-color);\n",
              "  }\n",
              "\n",
              "  .colab-df-quickchart-complete:disabled,\n",
              "  .colab-df-quickchart-complete:disabled:hover {\n",
              "    background-color: var(--disabled-bg-color);\n",
              "    fill: var(--disabled-fill-color);\n",
              "    box-shadow: none;\n",
              "  }\n",
              "\n",
              "  .colab-df-spinner {\n",
              "    border: 2px solid var(--fill-color);\n",
              "    border-color: transparent;\n",
              "    border-bottom-color: var(--fill-color);\n",
              "    animation:\n",
              "      spin 1s steps(1) infinite;\n",
              "  }\n",
              "\n",
              "  @keyframes spin {\n",
              "    0% {\n",
              "      border-color: transparent;\n",
              "      border-bottom-color: var(--fill-color);\n",
              "      border-left-color: var(--fill-color);\n",
              "    }\n",
              "    20% {\n",
              "      border-color: transparent;\n",
              "      border-left-color: var(--fill-color);\n",
              "      border-top-color: var(--fill-color);\n",
              "    }\n",
              "    30% {\n",
              "      border-color: transparent;\n",
              "      border-left-color: var(--fill-color);\n",
              "      border-top-color: var(--fill-color);\n",
              "      border-right-color: var(--fill-color);\n",
              "    }\n",
              "    40% {\n",
              "      border-color: transparent;\n",
              "      border-right-color: var(--fill-color);\n",
              "      border-top-color: var(--fill-color);\n",
              "    }\n",
              "    60% {\n",
              "      border-color: transparent;\n",
              "      border-right-color: var(--fill-color);\n",
              "    }\n",
              "    80% {\n",
              "      border-color: transparent;\n",
              "      border-right-color: var(--fill-color);\n",
              "      border-bottom-color: var(--fill-color);\n",
              "    }\n",
              "    90% {\n",
              "      border-color: transparent;\n",
              "      border-bottom-color: var(--fill-color);\n",
              "    }\n",
              "  }\n",
              "</style>\n",
              "\n",
              "  <script>\n",
              "    async function quickchart(key) {\n",
              "      const quickchartButtonEl =\n",
              "        document.querySelector('#' + key + ' button');\n",
              "      quickchartButtonEl.disabled = true;  // To prevent multiple clicks.\n",
              "      quickchartButtonEl.classList.add('colab-df-spinner');\n",
              "      try {\n",
              "        const charts = await google.colab.kernel.invokeFunction(\n",
              "            'suggestCharts', [key], {});\n",
              "      } catch (error) {\n",
              "        console.error('Error during call to suggestCharts:', error);\n",
              "      }\n",
              "      quickchartButtonEl.classList.remove('colab-df-spinner');\n",
              "      quickchartButtonEl.classList.add('colab-df-quickchart-complete');\n",
              "    }\n",
              "    (() => {\n",
              "      let quickchartButtonEl =\n",
              "        document.querySelector('#df-6621380e-0bbd-4a10-84e8-8bd10adc2936 button');\n",
              "      quickchartButtonEl.style.display =\n",
              "        google.colab.kernel.accessAllowed ? 'block' : 'none';\n",
              "    })();\n",
              "  </script>\n",
              "</div>\n",
              "\n",
              "  <div id=\"id_d17ed08d-597e-4090-a26f-c9051d2be8ee\">\n",
              "    <style>\n",
              "      .colab-df-generate {\n",
              "        background-color: #E8F0FE;\n",
              "        border: none;\n",
              "        border-radius: 50%;\n",
              "        cursor: pointer;\n",
              "        display: none;\n",
              "        fill: #1967D2;\n",
              "        height: 32px;\n",
              "        padding: 0 0 0 0;\n",
              "        width: 32px;\n",
              "      }\n",
              "\n",
              "      .colab-df-generate:hover {\n",
              "        background-color: #E2EBFA;\n",
              "        box-shadow: 0px 1px 2px rgba(60, 64, 67, 0.3), 0px 1px 3px 1px rgba(60, 64, 67, 0.15);\n",
              "        fill: #174EA6;\n",
              "      }\n",
              "\n",
              "      [theme=dark] .colab-df-generate {\n",
              "        background-color: #3B4455;\n",
              "        fill: #D2E3FC;\n",
              "      }\n",
              "\n",
              "      [theme=dark] .colab-df-generate:hover {\n",
              "        background-color: #434B5C;\n",
              "        box-shadow: 0px 1px 3px 1px rgba(0, 0, 0, 0.15);\n",
              "        filter: drop-shadow(0px 1px 2px rgba(0, 0, 0, 0.3));\n",
              "        fill: #FFFFFF;\n",
              "      }\n",
              "    </style>\n",
              "    <button class=\"colab-df-generate\" onclick=\"generateWithVariable('df')\"\n",
              "            title=\"Generate code using this dataframe.\"\n",
              "            style=\"display:none;\">\n",
              "\n",
              "  <svg xmlns=\"http://www.w3.org/2000/svg\" height=\"24px\"viewBox=\"0 0 24 24\"\n",
              "       width=\"24px\">\n",
              "    <path d=\"M7,19H8.4L18.45,9,17,7.55,7,17.6ZM5,21V16.75L18.45,3.32a2,2,0,0,1,2.83,0l1.4,1.43a1.91,1.91,0,0,1,.58,1.4,1.91,1.91,0,0,1-.58,1.4L9.25,21ZM18.45,9,17,7.55Zm-12,3A5.31,5.31,0,0,0,4.9,8.1,5.31,5.31,0,0,0,1,6.5,5.31,5.31,0,0,0,4.9,4.9,5.31,5.31,0,0,0,6.5,1,5.31,5.31,0,0,0,8.1,4.9,5.31,5.31,0,0,0,12,6.5,5.46,5.46,0,0,0,6.5,12Z\"/>\n",
              "  </svg>\n",
              "    </button>\n",
              "    <script>\n",
              "      (() => {\n",
              "      const buttonEl =\n",
              "        document.querySelector('#id_d17ed08d-597e-4090-a26f-c9051d2be8ee button.colab-df-generate');\n",
              "      buttonEl.style.display =\n",
              "        google.colab.kernel.accessAllowed ? 'block' : 'none';\n",
              "\n",
              "      buttonEl.onclick = () => {\n",
              "        google.colab.notebook.generateWithVariable('df');\n",
              "      }\n",
              "      })();\n",
              "    </script>\n",
              "  </div>\n",
              "\n",
              "    </div>\n",
              "  </div>\n"
            ],
            "application/vnd.google.colaboratory.intrinsic+json": {
              "type": "dataframe",
              "variable_name": "df",
              "summary": "{\n  \"name\": \"df\",\n  \"rows\": 10,\n  \"fields\": [\n    {\n      \"column\": \"User\",\n      \"properties\": {\n        \"dtype\": \"string\",\n        \"num_unique_values\": 9,\n        \"samples\": [\n          \"Sufyan Sarwar\",\n          \"Essa Khan\",\n          \"Mehmood Ahmad\"\n        ],\n        \"semantic_type\": \"\",\n        \"description\": \"\"\n      }\n    },\n    {\n      \"column\": \"Social Media\",\n      \"properties\": {\n        \"dtype\": \"string\",\n        \"num_unique_values\": 5,\n        \"samples\": [\n          \"LinkedIn\",\n          \"WhatsApp\",\n          \"Youtube\"\n        ],\n        \"semantic_type\": \"\",\n        \"description\": \"\"\n      }\n    },\n    {\n      \"column\": \"Screen Time\",\n      \"properties\": {\n        \"dtype\": \"number\",\n        \"std\": 65,\n        \"min\": 258,\n        \"max\": 450,\n        \"num_unique_values\": 10,\n        \"samples\": [\n          261,\n          402,\n          300\n        ],\n        \"semantic_type\": \"\",\n        \"description\": \"\"\n      }\n    }\n  ]\n}"
            }
          },
          "metadata": {},
          "execution_count": 57
        }
      ]
    },
    {
      "cell_type": "markdown",
      "source": [
        "Find the Eldest Person & the Youngest Person with their choice of Social Media"
      ],
      "metadata": {
        "id": "tSBF2RzDqeT4"
      }
    },
    {
      "cell_type": "code",
      "source": [
        "\n",
        "query4 = \"\"\"\n",
        "MATCH (p:Person)-[r]->(s:Social_Media)\n",
        "SET p.Name = 'Eldest Person :'\n",
        "RETURN p.Name, p.name AS Name, 2022-p.dob AS Age, s.title\n",
        "ORDER BY Age DESC\n",
        "LIMIT 1\n",
        "UNION ALL\n",
        "MATCH (p:Person)-[r]->(s:Social_Media)\n",
        "SET p.Name = 'Youngest Person: '\n",
        "RETURN p.Name ,p.name AS Name, 2022-p.dob AS Age, s.title\n",
        "ORDER BY Age\n",
        "LIMIT 1\n",
        "\"\"\"\n"
      ],
      "metadata": {
        "id": "hGAKsi9Fqa5T"
      },
      "execution_count": 64,
      "outputs": []
    },
    {
      "cell_type": "code",
      "source": [
        "\n",
        "result4 = graph.run(query4)\n",
        "for d in result4:\n",
        "    print(d)"
      ],
      "metadata": {
        "id": "EcL3VitVzBSs"
      },
      "execution_count": null,
      "outputs": []
    },
    {
      "cell_type": "markdown",
      "source": [
        "Find the number of male & female users for each social media platform."
      ],
      "metadata": {
        "id": "2r5mJh_zqkeg"
      }
    },
    {
      "cell_type": "code",
      "source": [
        "query5 = \"\"\"\n",
        "MATCH (p:Person)-[r]->(s:Social_Media)\n",
        "WHERE p.sex=\"Male\"\n",
        "SET p.surname = 'Male'\n",
        "RETURN s.title, COUNT(*),p.surname AS count\n",
        "ORDER BY count DESC\n",
        "UNION ALL\n",
        "MATCH (p:Person)-[r]->(s:Social_Media)\n",
        "WHERE p.sex=\"Female\"\n",
        "SET p.surname = 'Female'\n",
        "RETURN s.title, COUNT(*),p.surname AS count\n",
        "ORDER BY count DESC\n",
        "\"\"\"\n",
        "\n",
        "result5 = graph.run(query5)\n",
        "for d in result5:\n",
        "    print(d)"
      ],
      "metadata": {
        "colab": {
          "base_uri": "https://localhost:8080/"
        },
        "id": "FKMWgV62qhhB",
        "outputId": "0658a6fa-efed-4c64-ac6c-5d3269c836a8"
      },
      "execution_count": 59,
      "outputs": [
        {
          "output_type": "stream",
          "name": "stdout",
          "text": [
            "'Instagram'\t14\t'Male'\n",
            "'WhatsApp'\t25\t'Male'\n",
            "'Facebook'\t13\t'Male'\n",
            "'SnapChat'\t6\t'Male'\n",
            "'LinkedIn'\t9\t'Male'\n",
            "'Twitter'\t15\t'Male'\n",
            "'Youtube'\t13\t'Male'\n",
            "'WhatsApp'\t23\t'Female'\n",
            "'LinkedIn'\t8\t'Female'\n",
            "'SnapChat'\t9\t'Female'\n",
            "'Youtube'\t6\t'Female'\n",
            "'Facebook'\t15\t'Female'\n",
            "'Instagram'\t16\t'Female'\n",
            "'Twitter'\t4\t'Female'\n"
          ]
        }
      ]
    },
    {
      "cell_type": "code",
      "source": [],
      "metadata": {
        "id": "k0lTRyqEqnfQ"
      },
      "execution_count": 59,
      "outputs": []
    }
  ]
}